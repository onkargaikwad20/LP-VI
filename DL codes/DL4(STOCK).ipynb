{
 "cells": [
  {
   "cell_type": "code",
   "execution_count": 2,
   "id": "fe544f98-4bdc-4d2e-b20e-79e49a652ea4",
   "metadata": {},
   "outputs": [],
   "source": [
    "import numpy as np\n",
    "import pandas as pd\n",
    "import tensorflow as tf\n",
    "from tensorflow import keras\n",
    "from tensorflow.keras.models import Sequential\n",
    "from tensorflow.keras import layers\n",
    "from tensorflow.keras.layers import LSTM,Dense,Dropout\n",
    "from sklearn.preprocessing import MinMaxScaler\n",
    "import matplotlib.pyplot as plt"
   ]
  },
  {
   "cell_type": "code",
   "execution_count": 3,
   "id": "54bcff6f-223b-4269-8778-1dde84eb274a",
   "metadata": {},
   "outputs": [],
   "source": [
    "data=pd.read_csv(\"GOOG.csv\")"
   ]
  },
  {
   "cell_type": "code",
   "execution_count": 4,
   "id": "68077c61-5bc0-4ff8-b5b8-7405a7957c4d",
   "metadata": {},
   "outputs": [],
   "source": [
    "data=data[['Close']]\n",
    "data.dropna(inplace=True)"
   ]
  },
  {
   "cell_type": "code",
   "execution_count": 5,
   "id": "f973c517-9dd7-498f-8e32-28f2bc83db4d",
   "metadata": {},
   "outputs": [],
   "source": [
    "scaler=MinMaxScaler(feature_range=(0,1))\n",
    "data_scaled=scaler.fit_transform(data)"
   ]
  },
  {
   "cell_type": "code",
   "execution_count": 6,
   "id": "723551f1-2908-44e3-aef2-b5c1dee7c548",
   "metadata": {},
   "outputs": [],
   "source": [
    "def create_sequences(data,sequence_length):\n",
    "    X,Y=[],[]\n",
    "    for i in range(sequence_length,len(data)):\n",
    "        X.append(data[i-sequence_length:i,0])\n",
    "        Y.append(data[i,0])\n",
    "    return np.array(X),np.array(Y)"
   ]
  },
  {
   "cell_type": "code",
   "execution_count": 7,
   "id": "a8998131-f430-4433-8609-1f91fa60a3d5",
   "metadata": {},
   "outputs": [],
   "source": [
    "sequence_length=60\n",
    "X,Y=create_sequences(data_scaled,sequence_length)"
   ]
  },
  {
   "cell_type": "code",
   "execution_count": 8,
   "id": "48abcb64-aee4-467b-8e05-29ecb7944378",
   "metadata": {},
   "outputs": [],
   "source": [
    "X=np.reshape(X,(X.shape[0],X.shape[1],1))"
   ]
  },
  {
   "cell_type": "code",
   "execution_count": 9,
   "id": "2174df8e-98ef-44f0-b411-fc97ad59cb75",
   "metadata": {},
   "outputs": [],
   "source": [
    "split=int(0.8*len(X))\n",
    "X_train,X_test=X[:split],X[split:]\n",
    "Y_train,Y_test=Y[:split],Y[split:]"
   ]
  },
  {
   "cell_type": "code",
   "execution_count": 10,
   "id": "7a5ad587-8d1a-41c8-99a3-32f84b383a3e",
   "metadata": {},
   "outputs": [
    {
     "name": "stderr",
     "output_type": "stream",
     "text": [
      "C:\\Users\\Menka khandare\\AppData\\Roaming\\Python\\Python311\\site-packages\\keras\\src\\layers\\rnn\\rnn.py:200: UserWarning: Do not pass an `input_shape`/`input_dim` argument to a layer. When using Sequential models, prefer using an `Input(shape)` object as the first layer in the model instead.\n",
      "  super().__init__(**kwargs)\n"
     ]
    }
   ],
   "source": [
    "model=keras.Sequential([\n",
    "    layers.SimpleRNN(50,return_sequences=True,input_shape=(X_train.shape[0],1)),\n",
    "    layers.SimpleRNN(50),\n",
    "    layers.Dense(1)\n",
    "])"
   ]
  },
  {
   "cell_type": "code",
   "execution_count": 11,
   "id": "ab06d44f-841a-4120-b227-5f524ea9ecbd",
   "metadata": {},
   "outputs": [],
   "source": [
    "model.compile(optimizer='adam',loss='mean_squared_error')"
   ]
  },
  {
   "cell_type": "code",
   "execution_count": null,
   "id": "68bae5cd-7c60-4ca7-bc9a-0e9541d8a92c",
   "metadata": {},
   "outputs": [
    {
     "name": "stdout",
     "output_type": "stream",
     "text": [
      "Epoch 1/50\n",
      "\u001b[1m81/85\u001b[0m \u001b[32m━━━━━━━━━━━━━━━━━━━\u001b[0m\u001b[37m━\u001b[0m \u001b[1m0s\u001b[0m 11ms/step - loss: 0.0331"
     ]
    }
   ],
   "source": [
    "history=model.fit(X_train,Y_train,epochs=50,batch_size=32,validation_split=0.1,verbose=1)"
   ]
  },
  {
   "cell_type": "code",
   "execution_count": null,
   "id": "5b4c76b3-13dd-47cc-9e98-2cece7a2388f",
   "metadata": {},
   "outputs": [],
   "source": [
    "loss=model.evaluate(X_test,Y_test)\n",
    "print(f\"Test loss: {loss:.4f}\")"
   ]
  },
  {
   "cell_type": "code",
   "execution_count": null,
   "id": "7e169780-dccd-43f1-aecf-40a62a1d4e76",
   "metadata": {},
   "outputs": [],
   "source": [
    "predicted_Stock_price=model.predict(X_test)"
   ]
  },
  {
   "cell_type": "code",
   "execution_count": null,
   "id": "32820dda-6f84-4c58-adb9-78730825c51e",
   "metadata": {},
   "outputs": [],
   "source": [
    "predicted_Stock_price=scaler.inverse_transform(predicted_Stock_price.reshape(-1,1))\n",
    "y_test_scaled=scaler.inverse_transform(Y_test.reshape(-1,1))"
   ]
  },
  {
   "cell_type": "code",
   "execution_count": null,
   "id": "33f5a7e7-6392-48a1-9b77-420f885cf3ba",
   "metadata": {},
   "outputs": [],
   "source": [
    "# Plot results\n",
    "plt.figure(figsize=(10, 6))\n",
    "plt.plot(y_test_scaled, color='blue', label='Actual Google Stock Price')\n",
    "plt.plot(predicted_stock_price, color='red', label='Predicted Google Stock Price')\n",
    "plt.title('Google Stock Price Prediction')\n",
    "plt.xlabel('Time')\n",
    "plt.ylabel('Stock Price')\n",
    "plt.legend()\n",
    "plt.show()"
   ]
  },
  {
   "cell_type": "code",
   "execution_count": null,
   "id": "9e18bc78-c41a-4580-9766-2d40f27b02f5",
   "metadata": {},
   "outputs": [],
   "source": []
  }
 ],
 "metadata": {
  "kernelspec": {
   "display_name": "Python 3 (ipykernel)",
   "language": "python",
   "name": "python3"
  },
  "language_info": {
   "codemirror_mode": {
    "name": "ipython",
    "version": 3
   },
   "file_extension": ".py",
   "mimetype": "text/x-python",
   "name": "python",
   "nbconvert_exporter": "python",
   "pygments_lexer": "ipython3",
   "version": "3.11.7"
  }
 },
 "nbformat": 4,
 "nbformat_minor": 5
}
